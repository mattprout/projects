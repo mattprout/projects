{
 "cells": [
  {
   "cell_type": "code",
   "execution_count": 14,
   "metadata": {},
   "outputs": [],
   "source": [
    "import pandas as pd\n",
    "%matplotlib inline"
   ]
  },
  {
   "cell_type": "markdown",
   "metadata": {},
   "source": [
    "# Introduction\n",
    "\n",
    "As a data scientist at Ford GoBike, a Bay Area bike share, I am trying to increase ridership.  The company would like to offer deals through the mobile app to increase ridership, but it needs to decide which plans should offer the promotions.\n",
    "\n",
    "In this notebook, I will be answering the following question:\n",
    "\n",
    "* What are the 5 most popular trips that could be categorized as \"commuter trips\"?\n",
    "\n",
    "I will also be providing recommendations for offers based on my findings."
   ]
  },
  {
   "cell_type": "markdown",
   "metadata": {},
   "source": [
    "# Findings\n",
    "\n",
    "## The Potential for Increasing Annual Subscribership to GoFord\n",
    "\n",
    "Let's first answer the question as to what are the 5 most popular trips that could be categorized as \"commuter trips\".  The assumptions I made in determining what trips were commuter trips were the following:\n",
    "* Commuter trips are made by subscribers (subscriber_type = 'Subscriber').  This group of riders would most likely take BART / Caltrain / ferry boat into San Francisco, from which they transfer to GoBike to get to work.  Local residents who work in San Francisco would most likely not be subscribers, as it makes more sense for them to own their own bicycles.\n",
    "* Commuter trips have a start time before 11am.  Having a start time up to 11am accounts for the bad traffic in the Bay area.  In addition, Commuter routes in the afternoon were ignored, as they assumed to be the same stations in the opposite direction.\n",
    "* Only trip counts greater than 2000 were considered based on the distribution of the data.\n",
    "* The query was made over the lifetime of the dataset, and does not take into account partial years.\n",
    "\n",
    "In the BigQuery web UI, save the results of this query in the **PopularCommuterRoutes** table:\n",
    "\n",
    "\\#standardSQL<br/>\n",
    "SELECT<br/>\n",
    "&nbsp;&nbsp;start_station_name,<br/>\n",
    "&nbsp;&nbsp;end_station_name,<br/>\n",
    "&nbsp;&nbsp;count(*) as CommuterTripCount<br/>\n",
    "FROM \\`bigquery-public-data.san_francisco.bikeshare_trips\\`<br/>\n",
    "WHERE subscriber_type = 'Subscriber' AND EXTRACT(HOUR FROM start_date) < 11<br/>\n",
    "GROUP BY start_station_name, end_station_name<br/>\n",
    "ORDER by CommuterTripCount DESC<br/>\n",
    "HAVING CommuterTripCount > 2000<br/>"
   ]
  },
  {
   "cell_type": "code",
   "execution_count": 15,
   "metadata": {},
   "outputs": [
    {
     "name": "stdout",
     "output_type": "stream",
     "text": [
      "\r",
      "Waiting on bqjob_rfdf3d72235990be_00000161a5337fea_1 ... (0s) Current status: DONE   "
     ]
    }
   ],
   "source": [
    "! bq query --use_legacy_sql=FALSE --format=csv 'SELECT * FROM `eighth-orbit-193303.bike_trips_data.PopularCommuterRoutes` ORDER BY CommuterTripCount DESC LIMIT 5'  > result.csv"
   ]
  },
  {
   "cell_type": "markdown",
   "metadata": {},
   "source": [
    "### Five most popular trips that could be categorized as \"commuter trips\":"
   ]
  },
  {
   "cell_type": "code",
   "execution_count": 16,
   "metadata": {},
   "outputs": [
    {
     "data": {
      "text/html": [
       "<div>\n",
       "<style scoped>\n",
       "    .dataframe tbody tr th:only-of-type {\n",
       "        vertical-align: middle;\n",
       "    }\n",
       "\n",
       "    .dataframe tbody tr th {\n",
       "        vertical-align: top;\n",
       "    }\n",
       "\n",
       "    .dataframe thead th {\n",
       "        text-align: right;\n",
       "    }\n",
       "</style>\n",
       "<table border=\"1\" class=\"dataframe\">\n",
       "  <thead>\n",
       "    <tr style=\"text-align: right;\">\n",
       "      <th></th>\n",
       "      <th>start_station_name</th>\n",
       "      <th>end_station_name</th>\n",
       "      <th>CommuterTripCount</th>\n",
       "    </tr>\n",
       "  </thead>\n",
       "  <tbody>\n",
       "    <tr>\n",
       "      <th>0</th>\n",
       "      <td>Harry Bridges Plaza (Ferry Building)</td>\n",
       "      <td>2nd at Townsend</td>\n",
       "      <td>4907</td>\n",
       "    </tr>\n",
       "    <tr>\n",
       "      <th>1</th>\n",
       "      <td>San Francisco Caltrain (Townsend at 4th)</td>\n",
       "      <td>Temporary Transbay Terminal (Howard at Beale)</td>\n",
       "      <td>4304</td>\n",
       "    </tr>\n",
       "    <tr>\n",
       "      <th>2</th>\n",
       "      <td>San Francisco Caltrain 2 (330 Townsend)</td>\n",
       "      <td>Townsend at 7th</td>\n",
       "      <td>4246</td>\n",
       "    </tr>\n",
       "    <tr>\n",
       "      <th>3</th>\n",
       "      <td>Steuart at Market</td>\n",
       "      <td>2nd at Townsend</td>\n",
       "      <td>4118</td>\n",
       "    </tr>\n",
       "    <tr>\n",
       "      <th>4</th>\n",
       "      <td>San Francisco Caltrain (Townsend at 4th)</td>\n",
       "      <td>Embarcadero at Folsom</td>\n",
       "      <td>3699</td>\n",
       "    </tr>\n",
       "  </tbody>\n",
       "</table>\n",
       "</div>"
      ],
      "text/plain": [
       "                         start_station_name  \\\n",
       "0      Harry Bridges Plaza (Ferry Building)   \n",
       "1  San Francisco Caltrain (Townsend at 4th)   \n",
       "2   San Francisco Caltrain 2 (330 Townsend)   \n",
       "3                         Steuart at Market   \n",
       "4  San Francisco Caltrain (Townsend at 4th)   \n",
       "\n",
       "                                end_station_name  CommuterTripCount  \n",
       "0                                2nd at Townsend               4907  \n",
       "1  Temporary Transbay Terminal (Howard at Beale)               4304  \n",
       "2                                Townsend at 7th               4246  \n",
       "3                                2nd at Townsend               4118  \n",
       "4                          Embarcadero at Folsom               3699  "
      ]
     },
     "execution_count": 16,
     "metadata": {},
     "output_type": "execute_result"
    }
   ],
   "source": [
    "pop_trips=pd.read_csv('result.csv')\n",
    "pop_trips"
   ]
  },
  {
   "cell_type": "markdown",
   "metadata": {},
   "source": [
    "Note the following from the results:\n",
    "The first route (Harry Bridges Plaza / 2nd at Townsend) starts at a ferry terminal.\n",
    "The second, third, and fifth routes start at the Caltrain station.\n",
    "The fourth route (Steuart at Market) is opposite the Harry Bridges Plaza at the ferry terminal.\n",
    "\n",
    "So the top five routes are associated with either the ferry terminal or Caltrain stations, which supports the assumptions made for this query.\n",
    "\n",
    "The following is a plot of the top commuter routes, which shows a comparison of the trip counts per station:"
   ]
  },
  {
   "cell_type": "code",
   "execution_count": 17,
   "metadata": {},
   "outputs": [
    {
     "data": {
      "text/plain": [
       "<matplotlib.axes._subplots.AxesSubplot at 0x7fd3e7e2b0b8>"
      ]
     },
     "execution_count": 17,
     "metadata": {},
     "output_type": "execute_result"
    },
    {
     "data": {
      "image/png": "[encoded data removed]",
      "text/plain": [
       "<matplotlib.figure.Figure at 0x7fd3e7e7b080>"
      ]
     },
     "metadata": {},
     "output_type": "display_data"
    }
   ],
   "source": [
    "pop_trips.plot(kind='bar', y='CommuterTripCount')"
   ]
  },
  {
   "cell_type": "markdown",
   "metadata": {},
   "source": [
    "The previous query gave the most popular routes for subscribers. But we want to know how many non-subscribers (subscriber_type = 'Customer') who also take the popular routes. By knowing this, we can target this group of riders and convert them to become subscribers.\n",
    "\n",
    "This can be done by joining the bikeshare_trips table with the previous results, and counting how many trips for 'Subscriber' or 'Customer' match those same routes.\n",
    "\n",
    "In the BigQuery web UI, save the results of the following query in the **PopularRoutesBreakdown** table:\n",
    "\n",
    "#standardSQL<br/>\n",
    "SELECT<br/>\n",
    "&nbsp;&nbsp;Trips.start_station_name,<br/>\n",
    "&nbsp;&nbsp;Trips.end_station_name,<br/>\n",
    "&nbsp;&nbsp;COUNT(CASE<br/>\n",
    "&nbsp;&nbsp;&nbsp;&nbsp;WHEN Trips.subscriber_type = 'Customer' THEN 1<br/>\n",
    "&nbsp;&nbsp;&nbsp;&nbsp;ELSE NULL END) AS CustomerCount,<br/>\n",
    "&nbsp;&nbsp;COUNT(CASE<br/>\n",
    "&nbsp;&nbsp;&nbsp;&nbsp;WHEN Trips.subscriber_type = 'Subscriber' THEN 1<br/>\n",
    "&nbsp;&nbsp;&nbsp;&nbsp;ELSE NULL END) AS SubscriberCount<br/>\n",
    "FROM<br/>\n",
    "&nbsp;&nbsp;\\`bigquery-public-data.san_francisco.bikeshare_trips\\` AS Trips,<br/>\n",
    "&nbsp;&nbsp;\\`eighth-orbit-193303.bike_trips_data.PopularCommuterRoutes\\` AS PopularRoutes<br/>\n",
    "WHERE<br/>\n",
    "&nbsp;&nbsp;Trips.start_station_name = PopularRoutes.start_station_name<br/>\n",
    "&nbsp;&nbsp;AND Trips.end_station_name = PopularRoutes.end_station_name<br/>\n",
    "GROUP BY Trips.start_station_name,  Trips.end_station_name<br/>"
   ]
  },
  {
   "cell_type": "markdown",
   "metadata": {},
   "source": [
    "The following query selects the percentage of riders who are customers on the popular routes from the PopularRoutesBreakdown table, ordered from greatest to smallest:"
   ]
  },
  {
   "cell_type": "code",
   "execution_count": 18,
   "metadata": {},
   "outputs": [
    {
     "name": "stdout",
     "output_type": "stream",
     "text": [
      "\r",
      "Waiting on bqjob_r6be6e6f7a7d4eb86_00000161a5338bc4_1 ... (0s) Current status: DONE   "
     ]
    }
   ],
   "source": [
    "! bq query --use_legacy_sql=FALSE --format=csv 'SELECT PopularRoutesBreakdown.start_station_name, PopularRoutesBreakdown.end_station_name, PopularRoutesBreakdown.CustomerCount * 100 / (PopularRoutesBreakdown.CustomerCount + PopularRoutesBreakdown.SubscriberCount) AS CustomerPercent FROM `eighth-orbit-193303.bike_trips_data.PopularCommuterRoutesBreakdown` AS PopularRoutesBreakdown ORDER BY CustomerPercent DESC LIMIT 5'  > result.csv"
   ]
  },
  {
   "cell_type": "code",
   "execution_count": 19,
   "metadata": {},
   "outputs": [
    {
     "data": {
      "text/html": [
       "<div>\n",
       "<style scoped>\n",
       "    .dataframe tbody tr th:only-of-type {\n",
       "        vertical-align: middle;\n",
       "    }\n",
       "\n",
       "    .dataframe tbody tr th {\n",
       "        vertical-align: top;\n",
       "    }\n",
       "\n",
       "    .dataframe thead th {\n",
       "        text-align: right;\n",
       "    }\n",
       "</style>\n",
       "<table border=\"1\" class=\"dataframe\">\n",
       "  <thead>\n",
       "    <tr style=\"text-align: right;\">\n",
       "      <th></th>\n",
       "      <th>start_station_name</th>\n",
       "      <th>end_station_name</th>\n",
       "      <th>CustomerPercent</th>\n",
       "    </tr>\n",
       "  </thead>\n",
       "  <tbody>\n",
       "    <tr>\n",
       "      <th>0</th>\n",
       "      <td>Harry Bridges Plaza (Ferry Building)</td>\n",
       "      <td>Embarcadero at Sansome</td>\n",
       "      <td>40.076503</td>\n",
       "    </tr>\n",
       "    <tr>\n",
       "      <th>1</th>\n",
       "      <td>Steuart at Market</td>\n",
       "      <td>Embarcadero at Sansome</td>\n",
       "      <td>16.575342</td>\n",
       "    </tr>\n",
       "    <tr>\n",
       "      <th>2</th>\n",
       "      <td>San Francisco Caltrain (Townsend at 4th)</td>\n",
       "      <td>Harry Bridges Plaza (Ferry Building)</td>\n",
       "      <td>8.141593</td>\n",
       "    </tr>\n",
       "    <tr>\n",
       "      <th>3</th>\n",
       "      <td>Harry Bridges Plaza (Ferry Building)</td>\n",
       "      <td>2nd at Townsend</td>\n",
       "      <td>8.072009</td>\n",
       "    </tr>\n",
       "    <tr>\n",
       "      <th>4</th>\n",
       "      <td>Steuart at Market</td>\n",
       "      <td>2nd at Townsend</td>\n",
       "      <td>4.653088</td>\n",
       "    </tr>\n",
       "  </tbody>\n",
       "</table>\n",
       "</div>"
      ],
      "text/plain": [
       "                         start_station_name  \\\n",
       "0      Harry Bridges Plaza (Ferry Building)   \n",
       "1                         Steuart at Market   \n",
       "2  San Francisco Caltrain (Townsend at 4th)   \n",
       "3      Harry Bridges Plaza (Ferry Building)   \n",
       "4                         Steuart at Market   \n",
       "\n",
       "                       end_station_name  CustomerPercent  \n",
       "0                Embarcadero at Sansome        40.076503  \n",
       "1                Embarcadero at Sansome        16.575342  \n",
       "2  Harry Bridges Plaza (Ferry Building)         8.141593  \n",
       "3                       2nd at Townsend         8.072009  \n",
       "4                       2nd at Townsend         4.653088  "
      ]
     },
     "execution_count": 19,
     "metadata": {},
     "output_type": "execute_result"
    }
   ],
   "source": [
    "pop_trips_percent_customer=pd.read_csv('result.csv')\n",
    "pop_trips_percent_customer"
   ]
  },
  {
   "cell_type": "markdown",
   "metadata": {},
   "source": [
    "This table shows that approximately 40% of the riders on the Harry Bridges Plaza to Embarcadero at Sansome trip and 16% of the riders on the Steuart at Market to Embarcadero at Sansome trip are non-subscribing customers."
   ]
  },
  {
   "cell_type": "markdown",
   "metadata": {},
   "source": [
    "## Increasing Ridership Among Tourists and Casual Riders"
   ]
  },
  {
   "cell_type": "markdown",
   "metadata": {},
   "source": [
    "If you were a tourist and wanted to do some sightseeing, how much time would you want to spend riding a bike?\n",
    "\n",
    "The current pricing structure is the following:\n",
    "\n",
    "* Single Ride: \\\\$3/30 minutes, \\\\$3/each additional 15 minutes\n",
    "* Day Pass: \\\\$9.95/day for rides of 30 minutes, \\\\$3/each additional 15 minutes\n",
    "* 3-Day Pass: \\\\$19.95/3 days for rides of 30 minutes, \\\\$3/each additional 15 minutes\n",
    "* Annual Membership: \\\\$149 for rides of 45 minutes, \\\\$3/each additional 15 minutes\n",
    "\n",
    "The current pricing structure incentivizes using bikes for a short period of time, as the cost goes up 2x after the first 30 minutes.\n",
    "\n",
    "What are the usage patterns of tourists/casual riders?"
   ]
  },
  {
   "cell_type": "markdown",
   "metadata": {},
   "source": [
    "First, let's look at the trip lengths for tourists/causal riders. The following query finds the counts of non-subscribing customers for the different usage times:"
   ]
  },
  {
   "cell_type": "code",
   "execution_count": 20,
   "metadata": {},
   "outputs": [
    {
     "name": "stdout",
     "output_type": "stream",
     "text": [
      "\r",
      "Waiting on bqjob_r460705454f777080_00000161a5339639_1 ... (0s) Current status: DONE   "
     ]
    }
   ],
   "source": [
    "! bq query --use_legacy_sql=FALSE --format=csv \"SELECT COUNT(CASE WHEN TIMESTAMP_DIFF(end_date, start_date, MINUTE) <= 30 THEN 1 ELSE NULL END) AS FifteenToThirtyMinutesCount, COUNT(CASE WHEN TIMESTAMP_DIFF(end_date, start_date, MINUTE) BETWEEN 31 AND 60 THEN 1 ELSE NULL END) AS ThirtyToSixtyMinutesCount, COUNT(CASE WHEN TIMESTAMP_DIFF(end_date, start_date, MINUTE) > 60 THEN 1 ELSE NULL END) AS SixtyMinutesOrMoreCount FROM \\`bigquery-public-data.san_francisco.bikeshare_trips\\` WHERE subscriber_type = 'Customer' AND TIMESTAMP_DIFF(end_date, start_date, MINUTE) >= 15\"  > result.csv"
   ]
  },
  {
   "cell_type": "code",
   "execution_count": 21,
   "metadata": {},
   "outputs": [
    {
     "data": {
      "text/html": [
       "<div>\n",
       "<style scoped>\n",
       "    .dataframe tbody tr th:only-of-type {\n",
       "        vertical-align: middle;\n",
       "    }\n",
       "\n",
       "    .dataframe tbody tr th {\n",
       "        vertical-align: top;\n",
       "    }\n",
       "\n",
       "    .dataframe thead th {\n",
       "        text-align: right;\n",
       "    }\n",
       "</style>\n",
       "<table border=\"1\" class=\"dataframe\">\n",
       "  <thead>\n",
       "    <tr style=\"text-align: right;\">\n",
       "      <th></th>\n",
       "      <th>FifteenToThirtyMinutesCount</th>\n",
       "      <th>ThirtyToSixtyMinutesCount</th>\n",
       "      <th>SixtyMinutesOrMoreCount</th>\n",
       "    </tr>\n",
       "  </thead>\n",
       "  <tbody>\n",
       "    <tr>\n",
       "      <th>0</th>\n",
       "      <td>44122</td>\n",
       "      <td>15740</td>\n",
       "      <td>25645</td>\n",
       "    </tr>\n",
       "  </tbody>\n",
       "</table>\n",
       "</div>"
      ],
      "text/plain": [
       "   FifteenToThirtyMinutesCount  ThirtyToSixtyMinutesCount  \\\n",
       "0                        44122                      15740   \n",
       "\n",
       "   SixtyMinutesOrMoreCount  \n",
       "0                    25645  "
      ]
     },
     "execution_count": 21,
     "metadata": {},
     "output_type": "execute_result"
    }
   ],
   "source": [
    "tourist_usage_category_counts = pd.read_csv('result.csv')\n",
    "tourist_usage_category_counts.head()"
   ]
  },
  {
   "cell_type": "markdown",
   "metadata": {},
   "source": [
    "Here is a plot of the category counts for comparison:"
   ]
  },
  {
   "cell_type": "code",
   "execution_count": 22,
   "metadata": {},
   "outputs": [
    {
     "data": {
      "text/plain": [
       "<matplotlib.axes._subplots.AxesSubplot at 0x7fd3e7d88630>"
      ]
     },
     "execution_count": 22,
     "metadata": {},
     "output_type": "execute_result"
    },
    {
     "data": {
      "image/png": "[encoded data removed]",
      "text/plain": [
       "<matplotlib.figure.Figure at 0x7fd3e7de0400>"
      ]
     },
     "metadata": {},
     "output_type": "display_data"
    }
   ],
   "source": [
    "tourist_usage_category_counts.plot(kind='bar', grid=True)"
   ]
  },
  {
   "cell_type": "markdown",
   "metadata": {},
   "source": [
    "Of the tourist / casual riders, approximately 51% ride within the 30 minute timeframe, meaning they return the bicycles on time.  18% rode for 30-60 minutes, and 30% rode for more than 60 minutes.  So almost one half the tourist / casual riders rode for more than the 30 minute base time, and were charged extra.  The data indicates that the base 30 minute rental time period is probably inappropriate for this segment of the GoFord riders."
   ]
  },
  {
   "cell_type": "markdown",
   "metadata": {},
   "source": [
    "Next, we will look at the time of day that tourists/casual riders rent GoFord bicycles.  The following is a histogram of the number of trips per hour of the day for this group:"
   ]
  },
  {
   "cell_type": "code",
   "execution_count": 23,
   "metadata": {},
   "outputs": [
    {
     "name": "stdout",
     "output_type": "stream",
     "text": [
      "\r",
      "Waiting on bqjob_r5e53911f2121a5f2_00000161a533a1c2_1 ... (0s) Current status: DONE   "
     ]
    }
   ],
   "source": [
    "! bq query --use_legacy_sql=FALSE --format=csv \"SELECT HourOfDay, HourlyRideCount FROM ( SELECT EXTRACT(HOUR FROM start_date) AS HourOfDay, COUNT(*) AS HourlyRideCount FROM \\`bigquery-public-data.san_francisco.bikeshare_trips\\` WHERE subscriber_type = 'Customer' AND TIMESTAMP_DIFF(end_date, start_date, MINUTE) >= 15 GROUP BY EXTRACT(HOUR FROM start_date) ) ORDER BY HourOfDay\"  > result.csv"
   ]
  },
  {
   "cell_type": "code",
   "execution_count": 24,
   "metadata": {},
   "outputs": [
    {
     "data": {
      "text/plain": [
       "<matplotlib.axes._subplots.AxesSubplot at 0x7fd3e7da3fd0>"
      ]
     },
     "execution_count": 24,
     "metadata": {},
     "output_type": "execute_result"
    },
    {
     "data": {
      "image/png": "[encoded data removed]",
      "text/plain": [
       "<matplotlib.figure.Figure at 0x7fd3e7e1b668>"
      ]
     },
     "metadata": {},
     "output_type": "display_data"
    }
   ],
   "source": [
    "tourist_hourly_rental_counts = pd.read_csv('result.csv')\n",
    "tourist_hourly_rental_counts.plot(kind='bar', x='HourOfDay', y='HourlyRideCount', color='b')"
   ]
  },
  {
   "cell_type": "markdown",
   "metadata": {},
   "source": [
    "As compared with commuters who use the rental bike service during the morning and evening commute to and from work, the rentals by tourists/casual riders is normally distributed and peaks around 2pm."
   ]
  },
  {
   "cell_type": "markdown",
   "metadata": {},
   "source": [
    "## Improving Ridership throughout the Year"
   ]
  },
  {
   "cell_type": "markdown",
   "metadata": {},
   "source": [
    "Instead of focusing on just one segment of the ridership such as commuters, it might be helpful to look at the trend in ridership throughout the year.  The following query gets the number of trips per week for the years that had complete data (2014-2015):"
   ]
  },
  {
   "cell_type": "code",
   "execution_count": 25,
   "metadata": {},
   "outputs": [
    {
     "name": "stdout",
     "output_type": "stream",
     "text": [
      "\r",
      "Waiting on bqjob_rf3e0c50356dfce7_00000161a533ad2b_1 ... (0s) Current status: DONE   "
     ]
    }
   ],
   "source": [
    "! bq query --use_legacy_sql=FALSE --format=csv \"SELECT WeekOfYear, WeeklyTripCount FROM (SELECT EXTRACT(WEEK FROM start_date) AS WeekOfYear, COUNT(*) AS WeeklyTripCount FROM \\`bigquery-public-data.san_francisco.bikeshare_trips\\` WHERE EXTRACT(YEAR FROM start_date) IN (2014, 2015) GROUP BY EXTRACT(WEEK FROM start_date) ) AS TripCountsPerWeek ORDER BY WeekOfYear ASC\"  > result.csv"
   ]
  },
  {
   "cell_type": "code",
   "execution_count": 26,
   "metadata": {},
   "outputs": [
    {
     "data": {
      "text/plain": [
       "<matplotlib.axes._subplots.AxesSubplot at 0x7fd3e7d3c7f0>"
      ]
     },
     "execution_count": 26,
     "metadata": {},
     "output_type": "execute_result"
    },
    {
     "data": {
      "image/png": "[encoded data removed]",
      "text/plain": [
       "<matplotlib.figure.Figure at 0x7fd3e7ddabe0>"
      ]
     },
     "metadata": {},
     "output_type": "display_data"
    }
   ],
   "source": [
    "weekly_rental_counts = pd.read_csv('result.csv')\n",
    "weekly_rental_counts.plot(kind='line', x='WeekOfYear', y='WeeklyTripCount', grid=True)"
   ]
  },
  {
   "cell_type": "markdown",
   "metadata": {},
   "source": [
    "Note that the ridership trend (weekly trip count) steadily increases until it peaks between week 34 and 41, and sharply drops until the end of the year.  This trend is positively correlated with the average temperature and negatively correlated with the average rainfall in San Francisco:"
   ]
  },
  {
   "cell_type": "markdown",
   "metadata": {},
   "source": [
    "![Average Temperature](SFAvgTemp.png)![Average Rainfall](SFAvgRainfall.png)"
   ]
  },
  {
   "cell_type": "markdown",
   "metadata": {},
   "source": [
    "# Recommendations"
   ]
  },
  {
   "cell_type": "markdown",
   "metadata": {},
   "source": [
    "Since the database does not track usage of individual riders throughout the day, and the database does not distinguish between one time, 1 day and 3 day passes, it is difficult to get insight into the usage patterns of non-subscribers. Therefore the focus of my analysis was on two segments of riders: subscribers (assumed to be generally commuters) and non-subscribers (assumed to be tourist/casual riders).\n",
    "\n",
    "Based on the above findings, here are my recommendations.\n",
    "\n",
    "1. **Have an online ad campaign to convert many of the non-subscribing commuters on the most popular commuter routes.**\n",
    "Among the most popular commuter routes, the following routes have the highest percentages of non-subscribers:\n",
    "        Harry Bridges Plaza to Embarcadero at Sansome (40%)\n",
    "        Steuart at Market to Embarcadero at Sansome\t(16.6%)\n",
    " Non-subscribing commuters on these routes (especially the Harry Bridges Plaza to Embarcadero at Sansome trip) would be ideal to promote an annual membership to through an online ad campaign.\n",
    "2. **Investigate a different pricing model for tourist/casual riders.**\n",
    "The usage patterns of tourist / casual riders shows that nearly 48% used GoFord bicycles for more than the 30 minute base time, and most rentals occurred mid-day (around 2pm). Due to the limitations with the available data, it is impossible to know if some of these riders have 1 or 3 day passes, and also when they return their bicycles, if they continue riding.  But the data does show that 30 minute base time does not work for nearly half of these riders.  It could be that many *potential* tourist / casual riders are turned off by the 30 minute price increase.  A recommendation would be to investigate whether a different pricing for mid-day rentals to stay constant at \\$3 for the next 30 minutes would increase ridership.  It would also need to be determined if this would affect the number of customers who rent for 1 day.\n",
    "3. **Off season price reduction for non-subscriber rentals.**\n",
    "Ridership is moderately low in January, and sharply declines in November and December. An online ad campaign and price reduction could be targeted at single ride, 1 day, and 3 day rentals during the months of January, November, and December to increase ridership."
   ]
  },
  {
   "cell_type": "code",
   "execution_count": null,
   "metadata": {},
   "outputs": [],
   "source": []
  }
 ],
 "metadata": {
  "kernelspec": {
   "display_name": "Python 3",
   "language": "python",
   "name": "python3"
  },
  "language_info": {
   "codemirror_mode": {
    "name": "ipython",
    "version": 3
   },
   "file_extension": ".py",
   "mimetype": "text/x-python",
   "name": "python",
   "nbconvert_exporter": "python",
   "pygments_lexer": "ipython3",
   "version": "3.7.0"
  }
 },
 "nbformat": 4,
 "nbformat_minor": 2
}
